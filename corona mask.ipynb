{
 "cells": [
  {
   "cell_type": "code",
   "execution_count": 15,
   "metadata": {},
   "outputs": [],
   "source": [
    "import os \n",
    "import cv2"
   ]
  },
  {
   "cell_type": "code",
   "execution_count": 16,
   "metadata": {},
   "outputs": [],
   "source": [
    "path=\"Corona mask\"\n",
    "mylist=os.listdir(\"Corona mask\")"
   ]
  },
  {
   "cell_type": "code",
   "execution_count": 17,
   "metadata": {},
   "outputs": [],
   "source": [
    "features=[]\n",
    "target=[]"
   ]
  },
  {
   "cell_type": "code",
   "execution_count": 18,
   "metadata": {},
   "outputs": [
    {
     "name": "stdout",
     "output_type": "stream",
     "text": [
      "not_mask\n",
      "with_mask\n"
     ]
    }
   ],
   "source": [
    "for folder in mylist:\n",
    "    mypiclist=os.listdir(path + \"/\" + folder)\n",
    "    for i in mypiclist:\n",
    "        image=cv2.imread(path + \"/\" + folder + \"/\"+ i)\n",
    "        features.append(image)\n",
    "        target.append(folder)\n",
    "    print(folder)"
   ]
  },
  {
   "cell_type": "code",
   "execution_count": 19,
   "metadata": {},
   "outputs": [],
   "source": [
    "import numpy as np"
   ]
  },
  {
   "cell_type": "code",
   "execution_count": 25,
   "metadata": {},
   "outputs": [
    {
     "data": {
      "text/plain": [
       "array([None,\n",
       "       array([[[ 18,   3,   7],\n",
       "        [ 18,   3,   7],\n",
       "        [ 18,   3,   7],\n",
       "        ...,\n",
       "        [ 28,  12,  19],\n",
       "        [ 28,  12,  19],\n",
       "        [ 29,  13,  20]],\n",
       "\n",
       "       [[ 22,   7,  11],\n",
       "        [ 22,   7,  11],\n",
       "        [ 22,   7,  11],\n",
       "        ...,\n",
       "        [ 41,  25,  32],\n",
       "        [ 41,  25,  32],\n",
       "        [ 42,  26,  33]],\n",
       "\n",
       "       [[ 26,   9,  13],\n",
       "        [ 26,   9,  13],\n",
       "        [ 26,   9,  13],\n",
       "        ...,\n",
       "        [ 30,  15,  19],\n",
       "        [ 31,  16,  20],\n",
       "        [ 32,  17,  21]],\n",
       "\n",
       "       ...,\n",
       "\n",
       "       [[ 77,   5, 172],\n",
       "        [ 73,   5, 170],\n",
       "        [ 65,   5, 167],\n",
       "        ...,\n",
       "        [  0,   0,   0],\n",
       "        [  0,   0,   0],\n",
       "        [  0,   0,   0]],\n",
       "\n",
       "       [[ 73,   5, 166],\n",
       "        [ 67,   3, 162],\n",
       "        [ 62,   5, 158],\n",
       "        ...,\n",
       "        [  0,   0,   0],\n",
       "        [  0,   0,   0],\n",
       "        [  0,   0,   0]],\n",
       "\n",
       "       [[ 71,   6, 162],\n",
       "        [ 65,   3, 157],\n",
       "        [ 59,   4, 155],\n",
       "        ...,\n",
       "        [  0,   0,   0],\n",
       "        [  0,   0,   0],\n",
       "        [  0,   0,   0]]], dtype=uint8),\n",
       "       array([[[116,  78, 184],\n",
       "        [116,  78, 184],\n",
       "        [116,  78, 184],\n",
       "        ...,\n",
       "        [121,  81, 193],\n",
       "        [121,  81, 193],\n",
       "        [119,  81, 193]],\n",
       "\n",
       "       [[117,  79, 185],\n",
       "        [117,  79, 185],\n",
       "        [117,  79, 185],\n",
       "        ...,\n",
       "        [121,  81, 193],\n",
       "        [121,  81, 193],\n",
       "        [119,  81, 193]],\n",
       "\n",
       "       [[117,  79, 185],\n",
       "        [117,  79, 185],\n",
       "        [117,  79, 185],\n",
       "        ...,\n",
       "        [121,  81, 193],\n",
       "        [121,  81, 193],\n",
       "        [119,  81, 193]],\n",
       "\n",
       "       ...,\n",
       "\n",
       "       [[131, 103, 222],\n",
       "        [131, 103, 222],\n",
       "        [131, 102, 225],\n",
       "        ...,\n",
       "        [ 14,  13,  15],\n",
       "        [ 14,  13,  15],\n",
       "        [ 17,  14,  16]],\n",
       "\n",
       "       [[131, 103, 222],\n",
       "        [131, 103, 222],\n",
       "        [131, 102, 225],\n",
       "        ...,\n",
       "        [ 14,  13,  15],\n",
       "        [ 14,  13,  15],\n",
       "        [ 17,  14,  16]],\n",
       "\n",
       "       [[131, 103, 222],\n",
       "        [131, 103, 222],\n",
       "        [131, 102, 225],\n",
       "        ...,\n",
       "        [ 14,  13,  15],\n",
       "        [ 14,  13,  15],\n",
       "        [ 18,  15,  17]]], dtype=uint8),\n",
       "       ...,\n",
       "       array([[[121, 104,  77],\n",
       "        [129, 112,  85],\n",
       "        [137, 120,  93],\n",
       "        ...,\n",
       "        [ 19,  18,  14],\n",
       "        [ 19,  18,  14],\n",
       "        [ 19,  18,  14]],\n",
       "\n",
       "       [[129, 112,  86],\n",
       "        [129, 115,  87],\n",
       "        [132, 115,  89],\n",
       "        ...,\n",
       "        [ 19,  18,  14],\n",
       "        [ 19,  18,  14],\n",
       "        [ 19,  18,  14]],\n",
       "\n",
       "       [[142, 126, 103],\n",
       "        [136, 123,  97],\n",
       "        [133, 117,  94],\n",
       "        ...,\n",
       "        [ 19,  18,  14],\n",
       "        [ 19,  18,  14],\n",
       "        [ 19,  18,  14]],\n",
       "\n",
       "       ...,\n",
       "\n",
       "       [[ 59,  79, 114],\n",
       "        [ 56,  76, 111],\n",
       "        [ 52,  71, 108],\n",
       "        ...,\n",
       "        [ 30,  29,  25],\n",
       "        [ 23,  22,  18],\n",
       "        [ 23,  22,  18]],\n",
       "\n",
       "       [[ 58,  80, 115],\n",
       "        [ 55,  77, 112],\n",
       "        [ 51,  73, 109],\n",
       "        ...,\n",
       "        [ 31,  28,  24],\n",
       "        [ 25,  22,  18],\n",
       "        [ 25,  22,  18]],\n",
       "\n",
       "       [[ 55,  77, 112],\n",
       "        [ 52,  74, 109],\n",
       "        [ 49,  71, 107],\n",
       "        ...,\n",
       "        [ 27,  24,  20],\n",
       "        [ 25,  22,  18],\n",
       "        [ 25,  22,  18]]], dtype=uint8),\n",
       "       array([[[255, 255, 255],\n",
       "        [255, 255, 255],\n",
       "        [255, 255, 255],\n",
       "        ...,\n",
       "        [255, 255, 255],\n",
       "        [255, 255, 255],\n",
       "        [255, 255, 255]],\n",
       "\n",
       "       [[255, 255, 255],\n",
       "        [255, 255, 255],\n",
       "        [255, 255, 255],\n",
       "        ...,\n",
       "        [255, 255, 255],\n",
       "        [255, 255, 255],\n",
       "        [255, 255, 255]],\n",
       "\n",
       "       [[255, 255, 255],\n",
       "        [255, 255, 255],\n",
       "        [255, 255, 255],\n",
       "        ...,\n",
       "        [255, 255, 255],\n",
       "        [255, 255, 255],\n",
       "        [255, 255, 255]],\n",
       "\n",
       "       ...,\n",
       "\n",
       "       [[  3,   1,   1],\n",
       "        [  3,   1,   1],\n",
       "        [  3,   1,   1],\n",
       "        ...,\n",
       "        [ 10,   0,   1],\n",
       "        [  8,   0,   1],\n",
       "        [  9,   3,   4]],\n",
       "\n",
       "       [[  5,   0,   1],\n",
       "        [  5,   0,   1],\n",
       "        [  3,   1,   1],\n",
       "        ...,\n",
       "        [  9,   1,   2],\n",
       "        [  5,   0,   1],\n",
       "        [  6,   1,   2]],\n",
       "\n",
       "       [[  5,   0,   1],\n",
       "        [  5,   0,   1],\n",
       "        [  3,   1,   1],\n",
       "        ...,\n",
       "        [  9,   3,   4],\n",
       "        [  7,   2,   3],\n",
       "        [  3,   1,   1]]], dtype=uint8),\n",
       "       array([[[255, 255, 255],\n",
       "        [255, 255, 255],\n",
       "        [255, 255, 255],\n",
       "        ...,\n",
       "        [252, 254, 248],\n",
       "        [249, 250, 246],\n",
       "        [248, 246, 245]],\n",
       "\n",
       "       [[255, 255, 255],\n",
       "        [255, 255, 255],\n",
       "        [255, 255, 255],\n",
       "        ...,\n",
       "        [238, 235, 255],\n",
       "        [245, 240, 255],\n",
       "        [251, 246, 255]],\n",
       "\n",
       "       [[255, 255, 255],\n",
       "        [255, 255, 255],\n",
       "        [255, 255, 255],\n",
       "        ...,\n",
       "        [146, 131, 223],\n",
       "        [154, 137, 228],\n",
       "        [160, 144, 232]],\n",
       "\n",
       "       ...,\n",
       "\n",
       "       [[255, 255, 255],\n",
       "        [255, 255, 255],\n",
       "        [255, 255, 255],\n",
       "        ...,\n",
       "        [235, 244, 253],\n",
       "        [231, 240, 250],\n",
       "        [229, 237, 250]],\n",
       "\n",
       "       [[255, 255, 255],\n",
       "        [255, 255, 255],\n",
       "        [255, 255, 255],\n",
       "        ...,\n",
       "        [237, 248, 255],\n",
       "        [234, 243, 253],\n",
       "        [229, 237, 250]],\n",
       "\n",
       "       [[255, 255, 255],\n",
       "        [255, 255, 255],\n",
       "        [255, 255, 255],\n",
       "        ...,\n",
       "        [227, 238, 246],\n",
       "        [221, 230, 240],\n",
       "        [220, 226, 239]]], dtype=uint8)], dtype=object)"
      ]
     },
     "execution_count": 25,
     "metadata": {},
     "output_type": "execute_result"
    }
   ],
   "source": [
    "features"
   ]
  },
  {
   "cell_type": "code",
   "execution_count": 23,
   "metadata": {},
   "outputs": [],
   "source": [
    "features=np.array(features,dtype='object')\n",
    "target=np.array(target,dtype='object')"
   ]
  },
  {
   "cell_type": "code",
   "execution_count": 24,
   "metadata": {},
   "outputs": [
    {
     "data": {
      "text/plain": [
       "(1377,)"
      ]
     },
     "execution_count": 24,
     "metadata": {},
     "output_type": "execute_result"
    }
   ],
   "source": [
    "features.shape"
   ]
  },
  {
   "cell_type": "code",
   "execution_count": null,
   "metadata": {},
   "outputs": [],
   "source": [
    "from sklearn.model_selection import train_test_split"
   ]
  },
  {
   "cell_type": "code",
   "execution_count": null,
   "metadata": {},
   "outputs": [],
   "source": [
    "train_features,test_features,train_traget,test_target=train_test_split(features,target,test_size=0.2)"
   ]
  },
  {
   "cell_type": "code",
   "execution_count": null,
   "metadata": {},
   "outputs": [],
   "source": [
    "def preprocessing(img):\n",
    "    img=cv2.cvtColor(img,cv2.COLOR_BGR2GRAY)\n",
    "    img=img/255\n",
    "    return img"
   ]
  },
  {
   "cell_type": "code",
   "execution_count": null,
   "metadata": {},
   "outputs": [],
   "source": [
    "train_features=np.array(list(map(preprocessing,train_features)),dtype=object)\n",
    "test_features=np.array(list(map(preprocessing,test_features)),dtype=object)"
   ]
  },
  {
   "cell_type": "code",
   "execution_count": null,
   "metadata": {},
   "outputs": [],
   "source": [
    "test_features.shape"
   ]
  },
  {
   "cell_type": "code",
   "execution_count": null,
   "metadata": {},
   "outputs": [],
   "source": [
    "train_features=train_features.reshape(1100, 32, 32,1)"
   ]
  },
  {
   "cell_type": "code",
   "execution_count": null,
   "metadata": {},
   "outputs": [],
   "source": [
    "from keras.utils.np_utils import to_categorical"
   ]
  },
  {
   "cell_type": "code",
   "execution_count": null,
   "metadata": {},
   "outputs": [],
   "source": [
    "import keras\n",
    "from keras.preprocessing.image import ImageDataGenerator"
   ]
  },
  {
   "cell_type": "code",
   "execution_count": null,
   "metadata": {},
   "outputs": [],
   "source": [
    "datagen=ImageDataGenerator(width_shift_range=0.1,height_shift_range=0.1,zoom_range=0.2,shear_range=0.1,rotation_range=10)"
   ]
  },
  {
   "cell_type": "code",
   "execution_count": null,
   "metadata": {},
   "outputs": [],
   "source": [
    "batches=datagen.flow(train_features,train_traget,batch_size=20)\n",
    "X_batch,Y_batch=next(batches)"
   ]
  },
  {
   "cell_type": "code",
   "execution_count": null,
   "metadata": {},
   "outputs": [],
   "source": [
    "from keras.models import Sequential\n",
    "from keras.layers import Conv2D,MaxPooling2D,Flatten,Dense,Dropout"
   ]
  },
  {
   "cell_type": "code",
   "execution_count": null,
   "metadata": {},
   "outputs": [],
   "source": [
    "model=Sequential()"
   ]
  },
  {
   "cell_type": "code",
   "execution_count": null,
   "metadata": {},
   "outputs": [],
   "source": [
    "model.add(Conv2D(60,(2,2),input_shape=(32,32,1),activation=\"relu\"))\n",
    "model.add(Conv2D(60,(2,2),activation=\"relu\"))\n",
    "model.add(MaxPooling2D((2,2)))\n",
    "model.add(Conv2D(30,(2,2),activation=\"relu\"))\n",
    "model.add(Conv2D(30,(2,2),activation=\"relu\"))\n",
    "model.add(MaxPooling2D((2,2)))\n",
    "model.add(Dropout(0.5))\n",
    "model.add(Flatten())\n",
    "model.add(Dense(300,activation=\"relu\"))\n",
    "model.add(Dense(43,activation=\"softmax\"))"
   ]
  },
  {
   "cell_type": "code",
   "execution_count": null,
   "metadata": {},
   "outputs": [],
   "source": [
    "from keras.optimizers import Adam"
   ]
  },
  {
   "cell_type": "code",
   "execution_count": null,
   "metadata": {},
   "outputs": [],
   "source": [
    "model.compile(Adam(lr=0.001),loss=\"categorical_crossentropy\",metrics=[\"accuracy\"])"
   ]
  },
  {
   "cell_type": "code",
   "execution_count": null,
   "metadata": {},
   "outputs": [],
   "source": [
    "model.fit_generator(datagen.flow(train_features,train_traget,batch_size=20),epochs=5)"
   ]
  },
  {
   "cell_type": "code",
   "execution_count": null,
   "metadata": {},
   "outputs": [],
   "source": [
    "cap=cv2.VideoCapture(0)"
   ]
  },
  {
   "cell_type": "code",
   "execution_count": null,
   "metadata": {},
   "outputs": [],
   "source": [
    "while True:\n",
    "    message,imgOriginal=cap.read()\n",
    "    img=np.array(imgOriginal)\n",
    "    img=cv2.resize(img, (32,32))\n",
    "    img=preprocessing(img)\n",
    "    img=img.reshape(1 ,32 ,32 ,1)\n",
    "    cv2.putText(imgOriginal,\"Class\",(20,35),cv2.FONT_HERSHEY_TRIPLEX,1,(23,120,255),2)\n",
    "    cv2.putText(imgOriginal,\"Probability\",(20,75),cv2.FONT_HERSHEY_TRIPLEX,1,(23,120,255),2)\n",
    "    probabilities=model.predict(img)\n",
    "    classIndex=model.predict_classes(img)\n",
    "    maxprob=np.amax(probabilities)\n",
    "    if maxprob>0.75:\n",
    "        cv2.putText(imgOriginal,folder,(120,35),cv2.FONT_HERSHEY_TRIPLEX,1,(23,120,255),2)\n",
    "        cv2.putText(imgOriginal,str(maxprob) + \"%\",(120,75),cv2.FONT_HERSHEY_TRIPLEX,1,(23,120,255),2)\n",
    "    cv2.imshow(\"Result\",imgOriginal)\n",
    "    if cv2.waitKey(1) & 0xFF==ord(\"q\"):\n",
    "        break"
   ]
  }
 ],
 "metadata": {
  "kernelspec": {
   "display_name": "Python 3",
   "language": "python",
   "name": "python3"
  },
  "language_info": {
   "codemirror_mode": {
    "name": "ipython",
    "version": 3
   },
   "file_extension": ".py",
   "mimetype": "text/x-python",
   "name": "python",
   "nbconvert_exporter": "python",
   "pygments_lexer": "ipython3",
   "version": "3.6.13"
  }
 },
 "nbformat": 4,
 "nbformat_minor": 4
}
